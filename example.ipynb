{
 "cells": [
  {
   "cell_type": "code",
   "execution_count": 1,
   "metadata": {
    "ExecuteTime": {
     "end_time": "2021-04-01T18:10:18.825964Z",
     "start_time": "2021-04-01T18:10:18.488851Z"
    }
   },
   "outputs": [],
   "source": [
    "from torch_gan import Model\n",
    "from torch_gan.generators import DCGANGenerator\n",
    "from torch_gan.discriminators import DCGANDiscriminator\n",
    "from torch_gan.generators import CGANGenerator\n",
    "from torch_gan.discriminators import CGANDiscriminator\n",
    "from torch_gan.generators import P2PGenerator\n",
    "from torch_gan.discriminators import P2PDiscriminator\n",
    "from torch_gan.discriminators import InfoGANDiscriminator\n",
    "from torch_gan.discriminators import BEGANDiscriminator\n",
    "from torch_gan.generators import SAGANGenerator\n",
    "from torch_gan.discriminators import SAGANDiscriminator\n",
    "from torch_gan.generators import ProGANGenerator\n",
    "from torch_gan.discriminators import ProGANDiscriminator"
   ]
  },
  {
   "cell_type": "code",
   "execution_count": 2,
   "metadata": {},
   "outputs": [],
   "source": [
    "import torch\n",
    "import torch.nn as nn\n",
    "import torch.nn.functional as F\n",
    "from torch.utils.data import Dataset, DataLoader\n",
    "import numpy as np\n",
    "\n",
    "import torchvision.datasets as datasets\n",
    "import torchvision.transforms as transforms\n",
    "\n",
    "import matplotlib.pyplot as plt"
   ]
  },
  {
   "cell_type": "code",
   "execution_count": 3,
   "metadata": {
    "ExecuteTime": {
     "end_time": "2021-04-01T18:10:18.861371Z",
     "start_time": "2021-04-01T18:10:18.827974Z"
    }
   },
   "outputs": [],
   "source": [
    "device = torch.device(\"cuda\" if torch.cuda.is_available() else \"cpu\")\n",
    "\n",
    "image_size = 32\n",
    "latent_dim = 128"
   ]
  },
  {
   "cell_type": "code",
   "execution_count": 4,
   "metadata": {},
   "outputs": [],
   "source": [
    "############DATASET############"
   ]
  },
  {
   "cell_type": "code",
   "execution_count": 7,
   "metadata": {},
   "outputs": [
    {
     "name": "stdout",
     "output_type": "stream",
     "text": [
      "Downloading http://yann.lecun.com/exdb/mnist/train-images-idx3-ubyte.gz\n",
      "Failed to download (trying next):\n",
      "HTTP Error 503: Service Unavailable\n",
      "\n",
      "Downloading https://ossci-datasets.s3.amazonaws.com/mnist/train-images-idx3-ubyte.gz\n",
      "Downloading https://ossci-datasets.s3.amazonaws.com/mnist/train-images-idx3-ubyte.gz to ./data_MNIST/MNIST/raw/train-images-idx3-ubyte.gz\n",
      "\n"
     ]
    },
    {
     "ename": "ImportError",
     "evalue": "IProgress not found. Please update jupyter and ipywidgets. See https://ipywidgets.readthedocs.io/en/stable/user_install.html",
     "output_type": "error",
     "traceback": [
      "\u001b[0;31m---------------------------------------------------------------------------\u001b[0m",
      "\u001b[0;31mImportError\u001b[0m                               Traceback (most recent call last)",
      "\u001b[0;32m<ipython-input-7-6b302c4fd575>\u001b[0m in \u001b[0;36m<module>\u001b[0;34m\u001b[0m\n\u001b[0;32m----> 1\u001b[0;31m dataset = datasets.MNIST(\n\u001b[0m\u001b[1;32m      2\u001b[0m     \u001b[0mroot\u001b[0m \u001b[0;34m=\u001b[0m \u001b[0;34m'./data_MNIST'\u001b[0m\u001b[0;34m,\u001b[0m\u001b[0;34m\u001b[0m\u001b[0;34m\u001b[0m\u001b[0m\n\u001b[1;32m      3\u001b[0m     transform = transforms.Compose([\n\u001b[1;32m      4\u001b[0m         \u001b[0mtransforms\u001b[0m\u001b[0;34m.\u001b[0m\u001b[0mResize\u001b[0m\u001b[0;34m(\u001b[0m\u001b[0mimage_size\u001b[0m\u001b[0;34m)\u001b[0m\u001b[0;34m,\u001b[0m\u001b[0;34m\u001b[0m\u001b[0;34m\u001b[0m\u001b[0m\n\u001b[1;32m      5\u001b[0m         \u001b[0mtransforms\u001b[0m\u001b[0;34m.\u001b[0m\u001b[0mCenterCrop\u001b[0m\u001b[0;34m(\u001b[0m\u001b[0mimage_size\u001b[0m\u001b[0;34m)\u001b[0m\u001b[0;34m,\u001b[0m\u001b[0;34m\u001b[0m\u001b[0;34m\u001b[0m\u001b[0m\n",
      "\u001b[0;32m~/.local/lib/python3.8/site-packages/torchvision/datasets/mnist.py\u001b[0m in \u001b[0;36m__init__\u001b[0;34m(self, root, train, transform, target_transform, download)\u001b[0m\n\u001b[1;32m     83\u001b[0m \u001b[0;34m\u001b[0m\u001b[0m\n\u001b[1;32m     84\u001b[0m         \u001b[0;32mif\u001b[0m \u001b[0mdownload\u001b[0m\u001b[0;34m:\u001b[0m\u001b[0;34m\u001b[0m\u001b[0;34m\u001b[0m\u001b[0m\n\u001b[0;32m---> 85\u001b[0;31m             \u001b[0mself\u001b[0m\u001b[0;34m.\u001b[0m\u001b[0mdownload\u001b[0m\u001b[0;34m(\u001b[0m\u001b[0;34m)\u001b[0m\u001b[0;34m\u001b[0m\u001b[0;34m\u001b[0m\u001b[0m\n\u001b[0m\u001b[1;32m     86\u001b[0m \u001b[0;34m\u001b[0m\u001b[0m\n\u001b[1;32m     87\u001b[0m         \u001b[0;32mif\u001b[0m \u001b[0;32mnot\u001b[0m \u001b[0mself\u001b[0m\u001b[0;34m.\u001b[0m\u001b[0m_check_exists\u001b[0m\u001b[0;34m(\u001b[0m\u001b[0;34m)\u001b[0m\u001b[0;34m:\u001b[0m\u001b[0;34m\u001b[0m\u001b[0;34m\u001b[0m\u001b[0m\n",
      "\u001b[0;32m~/.local/lib/python3.8/site-packages/torchvision/datasets/mnist.py\u001b[0m in \u001b[0;36mdownload\u001b[0;34m(self)\u001b[0m\n\u001b[1;32m    153\u001b[0m                 \u001b[0;32mtry\u001b[0m\u001b[0;34m:\u001b[0m\u001b[0;34m\u001b[0m\u001b[0;34m\u001b[0m\u001b[0m\n\u001b[1;32m    154\u001b[0m                     \u001b[0mprint\u001b[0m\u001b[0;34m(\u001b[0m\u001b[0;34m\"Downloading {}\"\u001b[0m\u001b[0;34m.\u001b[0m\u001b[0mformat\u001b[0m\u001b[0;34m(\u001b[0m\u001b[0murl\u001b[0m\u001b[0;34m)\u001b[0m\u001b[0;34m)\u001b[0m\u001b[0;34m\u001b[0m\u001b[0;34m\u001b[0m\u001b[0m\n\u001b[0;32m--> 155\u001b[0;31m                     download_and_extract_archive(\n\u001b[0m\u001b[1;32m    156\u001b[0m                         \u001b[0murl\u001b[0m\u001b[0;34m,\u001b[0m \u001b[0mdownload_root\u001b[0m\u001b[0;34m=\u001b[0m\u001b[0mself\u001b[0m\u001b[0;34m.\u001b[0m\u001b[0mraw_folder\u001b[0m\u001b[0;34m,\u001b[0m\u001b[0;34m\u001b[0m\u001b[0;34m\u001b[0m\u001b[0m\n\u001b[1;32m    157\u001b[0m                         \u001b[0mfilename\u001b[0m\u001b[0;34m=\u001b[0m\u001b[0mfilename\u001b[0m\u001b[0;34m,\u001b[0m\u001b[0;34m\u001b[0m\u001b[0;34m\u001b[0m\u001b[0m\n",
      "\u001b[0;32m~/.local/lib/python3.8/site-packages/torchvision/datasets/utils.py\u001b[0m in \u001b[0;36mdownload_and_extract_archive\u001b[0;34m(url, download_root, extract_root, filename, md5, remove_finished)\u001b[0m\n\u001b[1;32m    314\u001b[0m         \u001b[0mfilename\u001b[0m \u001b[0;34m=\u001b[0m \u001b[0mos\u001b[0m\u001b[0;34m.\u001b[0m\u001b[0mpath\u001b[0m\u001b[0;34m.\u001b[0m\u001b[0mbasename\u001b[0m\u001b[0;34m(\u001b[0m\u001b[0murl\u001b[0m\u001b[0;34m)\u001b[0m\u001b[0;34m\u001b[0m\u001b[0;34m\u001b[0m\u001b[0m\n\u001b[1;32m    315\u001b[0m \u001b[0;34m\u001b[0m\u001b[0m\n\u001b[0;32m--> 316\u001b[0;31m     \u001b[0mdownload_url\u001b[0m\u001b[0;34m(\u001b[0m\u001b[0murl\u001b[0m\u001b[0;34m,\u001b[0m \u001b[0mdownload_root\u001b[0m\u001b[0;34m,\u001b[0m \u001b[0mfilename\u001b[0m\u001b[0;34m,\u001b[0m \u001b[0mmd5\u001b[0m\u001b[0;34m)\u001b[0m\u001b[0;34m\u001b[0m\u001b[0;34m\u001b[0m\u001b[0m\n\u001b[0m\u001b[1;32m    317\u001b[0m \u001b[0;34m\u001b[0m\u001b[0m\n\u001b[1;32m    318\u001b[0m     \u001b[0marchive\u001b[0m \u001b[0;34m=\u001b[0m \u001b[0mos\u001b[0m\u001b[0;34m.\u001b[0m\u001b[0mpath\u001b[0m\u001b[0;34m.\u001b[0m\u001b[0mjoin\u001b[0m\u001b[0;34m(\u001b[0m\u001b[0mdownload_root\u001b[0m\u001b[0;34m,\u001b[0m \u001b[0mfilename\u001b[0m\u001b[0;34m)\u001b[0m\u001b[0;34m\u001b[0m\u001b[0;34m\u001b[0m\u001b[0m\n",
      "\u001b[0;32m~/.local/lib/python3.8/site-packages/torchvision/datasets/utils.py\u001b[0m in \u001b[0;36mdownload_url\u001b[0;34m(url, root, filename, md5, max_redirect_hops)\u001b[0m\n\u001b[1;32m    132\u001b[0m     \u001b[0;32mtry\u001b[0m\u001b[0;34m:\u001b[0m\u001b[0;34m\u001b[0m\u001b[0;34m\u001b[0m\u001b[0m\n\u001b[1;32m    133\u001b[0m         \u001b[0mprint\u001b[0m\u001b[0;34m(\u001b[0m\u001b[0;34m'Downloading '\u001b[0m \u001b[0;34m+\u001b[0m \u001b[0murl\u001b[0m \u001b[0;34m+\u001b[0m \u001b[0;34m' to '\u001b[0m \u001b[0;34m+\u001b[0m \u001b[0mfpath\u001b[0m\u001b[0;34m)\u001b[0m\u001b[0;34m\u001b[0m\u001b[0;34m\u001b[0m\u001b[0m\n\u001b[0;32m--> 134\u001b[0;31m         \u001b[0m_urlretrieve\u001b[0m\u001b[0;34m(\u001b[0m\u001b[0murl\u001b[0m\u001b[0;34m,\u001b[0m \u001b[0mfpath\u001b[0m\u001b[0;34m)\u001b[0m\u001b[0;34m\u001b[0m\u001b[0;34m\u001b[0m\u001b[0m\n\u001b[0m\u001b[1;32m    135\u001b[0m     \u001b[0;32mexcept\u001b[0m \u001b[0;34m(\u001b[0m\u001b[0murllib\u001b[0m\u001b[0;34m.\u001b[0m\u001b[0merror\u001b[0m\u001b[0;34m.\u001b[0m\u001b[0mURLError\u001b[0m\u001b[0;34m,\u001b[0m \u001b[0mIOError\u001b[0m\u001b[0;34m)\u001b[0m \u001b[0;32mas\u001b[0m \u001b[0me\u001b[0m\u001b[0;34m:\u001b[0m  \u001b[0;31m# type: ignore[attr-defined]\u001b[0m\u001b[0;34m\u001b[0m\u001b[0;34m\u001b[0m\u001b[0m\n\u001b[1;32m    136\u001b[0m         \u001b[0;32mif\u001b[0m \u001b[0murl\u001b[0m\u001b[0;34m[\u001b[0m\u001b[0;34m:\u001b[0m\u001b[0;36m5\u001b[0m\u001b[0;34m]\u001b[0m \u001b[0;34m==\u001b[0m \u001b[0;34m'https'\u001b[0m\u001b[0;34m:\u001b[0m\u001b[0;34m\u001b[0m\u001b[0;34m\u001b[0m\u001b[0m\n",
      "\u001b[0;32m~/.local/lib/python3.8/site-packages/torchvision/datasets/utils.py\u001b[0m in \u001b[0;36m_urlretrieve\u001b[0;34m(url, filename, chunk_size)\u001b[0m\n\u001b[1;32m     28\u001b[0m     \u001b[0;32mwith\u001b[0m \u001b[0mopen\u001b[0m\u001b[0;34m(\u001b[0m\u001b[0mfilename\u001b[0m\u001b[0;34m,\u001b[0m \u001b[0;34m\"wb\"\u001b[0m\u001b[0;34m)\u001b[0m \u001b[0;32mas\u001b[0m \u001b[0mfh\u001b[0m\u001b[0;34m:\u001b[0m\u001b[0;34m\u001b[0m\u001b[0;34m\u001b[0m\u001b[0m\n\u001b[1;32m     29\u001b[0m         \u001b[0;32mwith\u001b[0m \u001b[0murllib\u001b[0m\u001b[0;34m.\u001b[0m\u001b[0mrequest\u001b[0m\u001b[0;34m.\u001b[0m\u001b[0murlopen\u001b[0m\u001b[0;34m(\u001b[0m\u001b[0murllib\u001b[0m\u001b[0;34m.\u001b[0m\u001b[0mrequest\u001b[0m\u001b[0;34m.\u001b[0m\u001b[0mRequest\u001b[0m\u001b[0;34m(\u001b[0m\u001b[0murl\u001b[0m\u001b[0;34m,\u001b[0m \u001b[0mheaders\u001b[0m\u001b[0;34m=\u001b[0m\u001b[0;34m{\u001b[0m\u001b[0;34m\"User-Agent\"\u001b[0m\u001b[0;34m:\u001b[0m \u001b[0mUSER_AGENT\u001b[0m\u001b[0;34m}\u001b[0m\u001b[0;34m)\u001b[0m\u001b[0;34m)\u001b[0m \u001b[0;32mas\u001b[0m \u001b[0mresponse\u001b[0m\u001b[0;34m:\u001b[0m\u001b[0;34m\u001b[0m\u001b[0;34m\u001b[0m\u001b[0m\n\u001b[0;32m---> 30\u001b[0;31m             \u001b[0;32mwith\u001b[0m \u001b[0mtqdm\u001b[0m\u001b[0;34m(\u001b[0m\u001b[0mtotal\u001b[0m\u001b[0;34m=\u001b[0m\u001b[0mresponse\u001b[0m\u001b[0;34m.\u001b[0m\u001b[0mlength\u001b[0m\u001b[0;34m)\u001b[0m \u001b[0;32mas\u001b[0m \u001b[0mpbar\u001b[0m\u001b[0;34m:\u001b[0m\u001b[0;34m\u001b[0m\u001b[0;34m\u001b[0m\u001b[0m\n\u001b[0m\u001b[1;32m     31\u001b[0m                 \u001b[0;32mfor\u001b[0m \u001b[0mchunk\u001b[0m \u001b[0;32min\u001b[0m \u001b[0miter\u001b[0m\u001b[0;34m(\u001b[0m\u001b[0;32mlambda\u001b[0m\u001b[0;34m:\u001b[0m \u001b[0mresponse\u001b[0m\u001b[0;34m.\u001b[0m\u001b[0mread\u001b[0m\u001b[0;34m(\u001b[0m\u001b[0mchunk_size\u001b[0m\u001b[0;34m)\u001b[0m\u001b[0;34m,\u001b[0m \u001b[0;34m\"\"\u001b[0m\u001b[0;34m)\u001b[0m\u001b[0;34m:\u001b[0m\u001b[0;34m\u001b[0m\u001b[0;34m\u001b[0m\u001b[0m\n\u001b[1;32m     32\u001b[0m                     \u001b[0;32mif\u001b[0m \u001b[0;32mnot\u001b[0m \u001b[0mchunk\u001b[0m\u001b[0;34m:\u001b[0m\u001b[0;34m\u001b[0m\u001b[0;34m\u001b[0m\u001b[0m\n",
      "\u001b[0;32m~/.local/lib/python3.8/site-packages/tqdm/notebook.py\u001b[0m in \u001b[0;36m__init__\u001b[0;34m(self, *args, **kwargs)\u001b[0m\n\u001b[1;32m    237\u001b[0m         \u001b[0munit_scale\u001b[0m \u001b[0;34m=\u001b[0m \u001b[0;36m1\u001b[0m \u001b[0;32mif\u001b[0m \u001b[0mself\u001b[0m\u001b[0;34m.\u001b[0m\u001b[0munit_scale\u001b[0m \u001b[0;32mis\u001b[0m \u001b[0;32mTrue\u001b[0m \u001b[0;32melse\u001b[0m \u001b[0mself\u001b[0m\u001b[0;34m.\u001b[0m\u001b[0munit_scale\u001b[0m \u001b[0;32mor\u001b[0m \u001b[0;36m1\u001b[0m\u001b[0;34m\u001b[0m\u001b[0;34m\u001b[0m\u001b[0m\n\u001b[1;32m    238\u001b[0m         \u001b[0mtotal\u001b[0m \u001b[0;34m=\u001b[0m \u001b[0mself\u001b[0m\u001b[0;34m.\u001b[0m\u001b[0mtotal\u001b[0m \u001b[0;34m*\u001b[0m \u001b[0munit_scale\u001b[0m \u001b[0;32mif\u001b[0m \u001b[0mself\u001b[0m\u001b[0;34m.\u001b[0m\u001b[0mtotal\u001b[0m \u001b[0;32melse\u001b[0m \u001b[0mself\u001b[0m\u001b[0;34m.\u001b[0m\u001b[0mtotal\u001b[0m\u001b[0;34m\u001b[0m\u001b[0;34m\u001b[0m\u001b[0m\n\u001b[0;32m--> 239\u001b[0;31m         \u001b[0mself\u001b[0m\u001b[0;34m.\u001b[0m\u001b[0mcontainer\u001b[0m \u001b[0;34m=\u001b[0m \u001b[0mself\u001b[0m\u001b[0;34m.\u001b[0m\u001b[0mstatus_printer\u001b[0m\u001b[0;34m(\u001b[0m\u001b[0mself\u001b[0m\u001b[0;34m.\u001b[0m\u001b[0mfp\u001b[0m\u001b[0;34m,\u001b[0m \u001b[0mtotal\u001b[0m\u001b[0;34m,\u001b[0m \u001b[0mself\u001b[0m\u001b[0;34m.\u001b[0m\u001b[0mdesc\u001b[0m\u001b[0;34m,\u001b[0m \u001b[0mself\u001b[0m\u001b[0;34m.\u001b[0m\u001b[0mncols\u001b[0m\u001b[0;34m)\u001b[0m\u001b[0;34m\u001b[0m\u001b[0;34m\u001b[0m\u001b[0m\n\u001b[0m\u001b[1;32m    240\u001b[0m         \u001b[0mself\u001b[0m\u001b[0;34m.\u001b[0m\u001b[0mcontainer\u001b[0m\u001b[0;34m.\u001b[0m\u001b[0mpbar\u001b[0m \u001b[0;34m=\u001b[0m \u001b[0mself\u001b[0m\u001b[0;34m\u001b[0m\u001b[0;34m\u001b[0m\u001b[0m\n\u001b[1;32m    241\u001b[0m         \u001b[0mself\u001b[0m\u001b[0;34m.\u001b[0m\u001b[0mdisplayed\u001b[0m \u001b[0;34m=\u001b[0m \u001b[0;32mFalse\u001b[0m\u001b[0;34m\u001b[0m\u001b[0;34m\u001b[0m\u001b[0m\n",
      "\u001b[0;32m~/.local/lib/python3.8/site-packages/tqdm/notebook.py\u001b[0m in \u001b[0;36mstatus_printer\u001b[0;34m(_, total, desc, ncols)\u001b[0m\n\u001b[1;32m    110\u001b[0m         \u001b[0;31m# Prepare IPython progress bar\u001b[0m\u001b[0;34m\u001b[0m\u001b[0;34m\u001b[0m\u001b[0;34m\u001b[0m\u001b[0m\n\u001b[1;32m    111\u001b[0m         \u001b[0;32mif\u001b[0m \u001b[0mIProgress\u001b[0m \u001b[0;32mis\u001b[0m \u001b[0;32mNone\u001b[0m\u001b[0;34m:\u001b[0m  \u001b[0;31m# #187 #451 #558 #872\u001b[0m\u001b[0;34m\u001b[0m\u001b[0;34m\u001b[0m\u001b[0m\n\u001b[0;32m--> 112\u001b[0;31m             raise ImportError(\n\u001b[0m\u001b[1;32m    113\u001b[0m                 \u001b[0;34m\"IProgress not found. Please update jupyter and ipywidgets.\"\u001b[0m\u001b[0;34m\u001b[0m\u001b[0;34m\u001b[0m\u001b[0m\n\u001b[1;32m    114\u001b[0m                 \u001b[0;34m\" See https://ipywidgets.readthedocs.io/en/stable\"\u001b[0m\u001b[0;34m\u001b[0m\u001b[0;34m\u001b[0m\u001b[0m\n",
      "\u001b[0;31mImportError\u001b[0m: IProgress not found. Please update jupyter and ipywidgets. See https://ipywidgets.readthedocs.io/en/stable/user_install.html"
     ]
    }
   ],
   "source": [
    "dataset = datasets.MNIST(\n",
    "    root = './data_MNIST',\n",
    "    transform = transforms.Compose([\n",
    "        transforms.Resize(image_size),\n",
    "        transforms.CenterCrop(image_size),\n",
    "        #transforms.RandomHorizontalFlip(),\n",
    "        transforms.ToTensor(),\n",
    "        transforms.Normalize(0.5, 0.5),\n",
    "    ]),\n",
    "    download=True,\n",
    ")"
   ]
  },
  {
   "cell_type": "code",
   "execution_count": 6,
   "metadata": {},
   "outputs": [
    {
     "data": {
      "text/plain": [
       "<matplotlib.image.AxesImage at 0x7f1a9ed5f220>"
      ]
     },
     "execution_count": 6,
     "metadata": {},
     "output_type": "execute_result"
    },
    {
     "data": {
      "image/png": "[encoded data removed]",
      "text/plain": [
       "<Figure size 432x288 with 1 Axes>"
      ]
     },
     "metadata": {
      "needs_background": "light"
     },
     "output_type": "display_data"
    }
   ],
   "source": [
    "plt.imshow(dataset[4][0].squeeze())"
   ]
  },
  {
   "cell_type": "code",
   "execution_count": 7,
   "metadata": {},
   "outputs": [],
   "source": [
    "loaders = {\n",
    "    \"train\": DataLoader(dataset, batch_size=64, shuffle=True)\n",
    "}"
   ]
  },
  {
   "cell_type": "code",
   "execution_count": 8,
   "metadata": {},
   "outputs": [],
   "source": [
    "generator = ProGANGenerator(128, 32, 1).to(device)\n",
    "discriminator = ProGANDiscriminator(32, 1).to(device)\n",
    "\n",
    "model = {\"generator\": generator, \"discriminator\": discriminator}"
   ]
  },
  {
   "cell_type": "code",
   "execution_count": 9,
   "metadata": {},
   "outputs": [],
   "source": [
    "optimizer = {\n",
    "    \"generator\": torch.optim.Adam(generator.parameters(), lr=0.0001, betas=(0.1, 0.9)),\n",
    "    \"discriminator\": torch.optim.Adam(discriminator.parameters(), lr=0.0004, betas=(0.1, 0.9)),\n",
    "}"
   ]
  },
  {
   "cell_type": "code",
   "execution_count": null,
   "metadata": {},
   "outputs": [],
   "source": []
  },
  {
   "cell_type": "code",
   "execution_count": null,
   "metadata": {},
   "outputs": [],
   "source": [
    "###########TRAINING###########"
   ]
  },
  {
   "cell_type": "code",
   "execution_count": 10,
   "metadata": {},
   "outputs": [
    {
     "name": "stdout",
     "output_type": "stream",
     "text": [
      "Requirement already satisfied: catalyst==20.10 in /home/aleksandr/.local/lib/python3.8/site-packages (20.10)\n",
      "Requirement already satisfied: matplotlib in /usr/lib/python3/dist-packages (from catalyst==20.10) (3.1.2)\n",
      "Requirement already satisfied: torch>=1.1.0 in /home/aleksandr/.local/lib/python3.8/site-packages (from catalyst==20.10) (1.8.1)\n",
      "Requirement already satisfied: tqdm>=4.33.0 in /home/aleksandr/.local/lib/python3.8/site-packages (from catalyst==20.10) (4.60.0)\n",
      "Requirement already satisfied: packaging in /usr/lib/python3/dist-packages (from catalyst==20.10) (20.3)\n",
      "Requirement already satisfied: scikit-learn>=0.20 in /home/aleksandr/.local/lib/python3.8/site-packages (from catalyst==20.10) (0.24.1)\n",
      "Requirement already satisfied: plotly>=4.1.0 in /home/aleksandr/.local/lib/python3.8/site-packages (from catalyst==20.10) (4.14.3)\n",
      "Requirement already satisfied: pandas>=0.22 in /home/aleksandr/.local/lib/python3.8/site-packages (from catalyst==20.10) (1.2.4)\n",
      "Requirement already satisfied: numpy>=1.16.4 in /usr/lib/python3/dist-packages (from catalyst==20.10) (1.17.4)\n",
      "Requirement already satisfied: tensorboardX in /home/aleksandr/.local/lib/python3.8/site-packages (from catalyst==20.10) (2.2)\n",
      "Requirement already satisfied: GitPython>=3.1.1 in /home/aleksandr/.local/lib/python3.8/site-packages (from catalyst==20.10) (3.1.14)\n",
      "Requirement already satisfied: ipython in /home/aleksandr/.local/lib/python3.8/site-packages (from catalyst==20.10) (7.22.0)\n",
      "Requirement already satisfied: tensorboard>=1.14.0 in /home/aleksandr/.local/lib/python3.8/site-packages (from catalyst==20.10) (2.4.1)\n",
      "Requirement already satisfied: deprecation in /home/aleksandr/.local/lib/python3.8/site-packages (from catalyst==20.10) (2.1.0)\n",
      "Requirement already satisfied: PyYAML in /usr/lib/python3/dist-packages (from catalyst==20.10) (5.3.1)\n",
      "Requirement already satisfied: typing-extensions in /usr/lib/python3/dist-packages (from torch>=1.1.0->catalyst==20.10) (3.7.4.1)\n",
      "Requirement already satisfied: scipy>=0.19.1 in /home/aleksandr/.local/lib/python3.8/site-packages (from scikit-learn>=0.20->catalyst==20.10) (1.6.2)\n",
      "Requirement already satisfied: joblib>=0.11 in /home/aleksandr/.local/lib/python3.8/site-packages (from scikit-learn>=0.20->catalyst==20.10) (1.0.1)\n",
      "Requirement already satisfied: threadpoolctl>=2.0.0 in /home/aleksandr/.local/lib/python3.8/site-packages (from scikit-learn>=0.20->catalyst==20.10) (2.1.0)\n",
      "Requirement already satisfied: six in /usr/lib/python3/dist-packages (from plotly>=4.1.0->catalyst==20.10) (1.14.0)\n",
      "Requirement already satisfied: retrying>=1.3.3 in /home/aleksandr/.local/lib/python3.8/site-packages (from plotly>=4.1.0->catalyst==20.10) (1.3.3)\n",
      "Requirement already satisfied: python-dateutil>=2.7.3 in /usr/lib/python3/dist-packages (from pandas>=0.22->catalyst==20.10) (2.7.3)\n",
      "Requirement already satisfied: pytz>=2017.3 in /usr/lib/python3/dist-packages (from pandas>=0.22->catalyst==20.10) (2019.3)\n",
      "Collecting protobuf>=3.8.0\n",
      "  Downloading protobuf-3.15.8-cp38-cp38-manylinux1_x86_64.whl (1.0 MB)\n",
      "\u001b[K     |████████████████████████████████| 1.0 MB 1.1 MB/s eta 0:00:01\n",
      "\u001b[?25hRequirement already satisfied: gitdb<5,>=4.0.1 in /home/aleksandr/.local/lib/python3.8/site-packages (from GitPython>=3.1.1->catalyst==20.10) (4.0.7)\n",
      "Requirement already satisfied: pickleshare in /home/aleksandr/.local/lib/python3.8/site-packages (from ipython->catalyst==20.10) (0.7.5)\n",
      "Requirement already satisfied: pygments in /home/aleksandr/.local/lib/python3.8/site-packages (from ipython->catalyst==20.10) (2.8.1)\n",
      "Requirement already satisfied: prompt-toolkit!=3.0.0,!=3.0.1,<3.1.0,>=2.0.0 in /home/aleksandr/.local/lib/python3.8/site-packages (from ipython->catalyst==20.10) (3.0.18)\n",
      "Requirement already satisfied: setuptools>=18.5 in /usr/lib/python3/dist-packages (from ipython->catalyst==20.10) (45.2.0)\n",
      "Requirement already satisfied: jedi>=0.16 in /home/aleksandr/.local/lib/python3.8/site-packages (from ipython->catalyst==20.10) (0.18.0)\n",
      "Requirement already satisfied: pexpect>4.3; sys_platform != \"win32\" in /usr/lib/python3/dist-packages (from ipython->catalyst==20.10) (4.6.0)\n",
      "Requirement already satisfied: decorator in /usr/lib/python3/dist-packages (from ipython->catalyst==20.10) (4.4.2)\n",
      "Requirement already satisfied: traitlets>=4.2 in /usr/lib/python3/dist-packages (from ipython->catalyst==20.10) (4.3.3)\n",
      "Requirement already satisfied: backcall in /home/aleksandr/.local/lib/python3.8/site-packages (from ipython->catalyst==20.10) (0.2.0)\n",
      "Requirement already satisfied: tensorboard-plugin-wit>=1.6.0 in /home/aleksandr/.local/lib/python3.8/site-packages (from tensorboard>=1.14.0->catalyst==20.10) (1.8.0)\n",
      "Requirement already satisfied: werkzeug>=0.11.15 in /home/aleksandr/.local/lib/python3.8/site-packages (from tensorboard>=1.14.0->catalyst==20.10) (1.0.1)\n",
      "Requirement already satisfied: requests<3,>=2.21.0 in /usr/lib/python3/dist-packages (from tensorboard>=1.14.0->catalyst==20.10) (2.22.0)\n",
      "Requirement already satisfied: markdown>=2.6.8 in /home/aleksandr/.local/lib/python3.8/site-packages (from tensorboard>=1.14.0->catalyst==20.10) (3.3.4)\n",
      "Requirement already satisfied: google-auth<2,>=1.6.3 in /home/aleksandr/.local/lib/python3.8/site-packages (from tensorboard>=1.14.0->catalyst==20.10) (1.29.0)\n",
      "Requirement already satisfied: wheel>=0.26; python_version >= \"3\" in /usr/lib/python3/dist-packages (from tensorboard>=1.14.0->catalyst==20.10) (0.34.2)\n",
      "Requirement already satisfied: absl-py>=0.4 in /home/aleksandr/.local/lib/python3.8/site-packages (from tensorboard>=1.14.0->catalyst==20.10) (0.12.0)\n",
      "Requirement already satisfied: grpcio>=1.24.3 in /home/aleksandr/.local/lib/python3.8/site-packages (from tensorboard>=1.14.0->catalyst==20.10) (1.37.0)\n",
      "Requirement already satisfied: google-auth-oauthlib<0.5,>=0.4.1 in /home/aleksandr/.local/lib/python3.8/site-packages (from tensorboard>=1.14.0->catalyst==20.10) (0.4.4)\n",
      "Requirement already satisfied: smmap<5,>=3.0.1 in /home/aleksandr/.local/lib/python3.8/site-packages (from gitdb<5,>=4.0.1->GitPython>=3.1.1->catalyst==20.10) (4.0.0)\n",
      "Requirement already satisfied: wcwidth in /usr/lib/python3/dist-packages (from prompt-toolkit!=3.0.0,!=3.0.1,<3.1.0,>=2.0.0->ipython->catalyst==20.10) (0.1.8)\n",
      "Requirement already satisfied: parso<0.9.0,>=0.8.0 in /home/aleksandr/.local/lib/python3.8/site-packages (from jedi>=0.16->ipython->catalyst==20.10) (0.8.2)\n",
      "Requirement already satisfied: pyasn1-modules>=0.2.1 in /usr/lib/python3/dist-packages (from google-auth<2,>=1.6.3->tensorboard>=1.14.0->catalyst==20.10) (0.2.1)\n",
      "Requirement already satisfied: cachetools<5.0,>=2.0.0 in /home/aleksandr/.local/lib/python3.8/site-packages (from google-auth<2,>=1.6.3->tensorboard>=1.14.0->catalyst==20.10) (4.2.1)\n",
      "Requirement already satisfied: rsa<5,>=3.1.4; python_version >= \"3.6\" in /home/aleksandr/.local/lib/python3.8/site-packages (from google-auth<2,>=1.6.3->tensorboard>=1.14.0->catalyst==20.10) (4.7.2)\n",
      "Requirement already satisfied: requests-oauthlib>=0.7.0 in /home/aleksandr/.local/lib/python3.8/site-packages (from google-auth-oauthlib<0.5,>=0.4.1->tensorboard>=1.14.0->catalyst==20.10) (1.3.0)\n",
      "Requirement already satisfied: pyasn1>=0.1.3 in /usr/lib/python3/dist-packages (from rsa<5,>=3.1.4; python_version >= \"3.6\"->google-auth<2,>=1.6.3->tensorboard>=1.14.0->catalyst==20.10) (0.4.2)\n",
      "Requirement already satisfied: oauthlib>=3.0.0 in /usr/lib/python3/dist-packages (from requests-oauthlib>=0.7.0->google-auth-oauthlib<0.5,>=0.4.1->tensorboard>=1.14.0->catalyst==20.10) (3.1.0)\n",
      "Installing collected packages: protobuf\n",
      "Successfully installed protobuf-3.15.8\n"
     ]
    }
   ],
   "source": [
    "!pip3 install catalyst==20.10"
   ]
  },
  {
   "cell_type": "code",
   "execution_count": 11,
   "metadata": {},
   "outputs": [],
   "source": [
    "from catalyst import dl"
   ]
  },
  {
   "cell_type": "code",
   "execution_count": 12,
   "metadata": {},
   "outputs": [],
   "source": [
    "class CustomRunner(dl.Runner):\n",
    "    fixed_z = torch.randn(4, latent_dim, device = device)\n",
    "\n",
    "    def predict_fixed_z(self):\n",
    "        generated_images = self.model[\"generator\"](self.fixed_z, 32, 1)\n",
    "        return generated_images\n",
    "\n",
    "    def _handle_batch(self, batch):\n",
    "        batch_metrics = {}\n",
    "        \n",
    "        real_images, _ = batch\n",
    "        b_size = real_images.size(0)\n",
    "\n",
    "        label_real = torch.full((b_size,), 0.0, dtype=torch.float, device=device)\n",
    "        label_fake = torch.full((b_size,), 1.0, dtype=torch.float, device=device)\n",
    "\n",
    "        ## Discriminator loss ##\n",
    "        d_out_real  = self.model[\"discriminator\"](real_images, 32, 1).view(-1)\n",
    "        d_loss_real = self.criterion(d_out_real, label_real)\n",
    "\n",
    "        z = torch.randn(b_size, latent_dim, device=self.device)\n",
    "        fake_images = self.model[\"generator\"](z, 32, 1).detach()\n",
    "        d_out_fake  = self.model[\"discriminator\"](fake_images, 32, 1)\n",
    "        d_loss_fake = self.criterion(d_out_fake, label_fake)\n",
    "        d_loss = d_loss_real + d_loss_fake\n",
    "\n",
    "        if self.is_train_loader:\n",
    "            self.optimizer['generator'].zero_grad()\n",
    "            self.optimizer['discriminator'].zero_grad()\n",
    "            d_loss.backward()\n",
    "            self.optimizer['discriminator'].step()\n",
    "\n",
    "        ## Generator loss ##\n",
    "        z = torch.randn(b_size, latent_dim, device=self.device)\n",
    "        fake_images = self.model[\"generator\"](z, 32, 1)\n",
    "        g_out_fake  = self.model[\"discriminator\"](fake_images, 32, 1)\n",
    "        g_loss      = self.criterion(g_out_fake, label_real)\n",
    "\n",
    "        if self.is_train_loader:\n",
    "            self.optimizer['generator'].zero_grad()\n",
    "            self.optimizer['discriminator'].zero_grad()\n",
    "            g_loss.backward()\n",
    "            self.optimizer['generator'].step()\n",
    "\n",
    "        batch_metrics[\"loss_discriminator\"] = d_loss\n",
    "        batch_metrics[\"loss_generator\"]     = g_loss\n",
    "        self.batch_metrics.update(**batch_metrics)"
   ]
  },
  {
   "cell_type": "code",
   "execution_count": 13,
   "metadata": {},
   "outputs": [],
   "source": [
    "from catalyst.core import Callback, CallbackOrder\n",
    "\n",
    "def plot_batch(batch):\n",
    "    images = (batch.detach().cpu() + 1) / 2\n",
    "    grid_img = torchvision.utils.make_grid(images)\n",
    "\n",
    "    plt.figure(figsize=(12, 24))\n",
    "    plt.imshow(grid_img.permute(1, 2, 0))\n",
    "    plt.show()\n",
    "\n",
    "class LogFigureCallback(Callback):\n",
    "    def __init__(self):\n",
    "        super().__init__(CallbackOrder.External)\n",
    "\n",
    "    def on_epoch_end(self, runner):\n",
    "        generated_images = runner.predict_fixed_z()\n",
    "\n",
    "        tb_callback = runner.callbacks[\"_tensorboard\"]\n",
    "        logger = tb_callback.loggers[runner.loader_name]\n",
    "        logger.add_images(\n",
    "            \"image/epoch\", \n",
    "            generated_images, \n",
    "            global_step=runner.epoch\n",
    "        )\n",
    "        plot_batch(generated_images)"
   ]
  },
  {
   "cell_type": "code",
   "execution_count": 14,
   "metadata": {},
   "outputs": [
    {
     "name": "stdout",
     "output_type": "stream",
     "text": [
      "\r",
      "1/300 * Epoch (train):   0% 0/938 [00:00<?, ?it/s]"
     ]
    },
    {
     "name": "stderr",
     "output_type": "stream",
     "text": [
      "/home/aleksandr/.local/lib/python3.8/site-packages/catalyst/experiments/experiment.py:219: UserWarning:\n",
      "\n",
      "Attention, there is only one dataloader - train\n",
      "\n",
      "/home/aleksandr/.local/lib/python3.8/site-packages/torch/nn/functional.py:3454: UserWarning:\n",
      "\n",
      "Default upsampling behavior when mode=bilinear is changed to align_corners=False since 0.4.0. Please specify align_corners=True if the old behavior is desired. See the documentation of nn.Upsample for details.\n",
      "\n",
      "/home/aleksandr/.local/lib/python3.8/site-packages/torch/nn/functional.py:3502: UserWarning:\n",
      "\n",
      "The default behavior for interpolate/upsample with float scale_factor changed in 1.6.0 to align with other frameworks/libraries, and now uses scale_factor directly, instead of relying on the computed output size. If you wish to restore the old behavior, please set recompute_scale_factor=True. See the documentation of nn.Upsample for details. \n",
      "\n"
     ]
    },
    {
     "name": "stdout",
     "output_type": "stream",
     "text": [
      "Early exiting                                                                                              \n",
      "1/300 * Epoch (train):   1% 12/938 [00:08<09:37,  1.60it/s, loss_discriminator=1.386, loss_generator=0.693]"
     ]
    }
   ],
   "source": [
    "logdir = \"./logs_gan\"\n",
    "\n",
    "runner = CustomRunner(device = device)\n",
    "runner.train(\n",
    "    model      = model,\n",
    "    criterion  = nn.BCELoss(),\n",
    "    optimizer  = optimizer,\n",
    "    loaders    = loaders,\n",
    "    callbacks  = [\n",
    "        LogFigureCallback(),\n",
    "    ],\n",
    "    main_metric = \"loss_generator\",\n",
    "    logdir      = logdir,\n",
    "    num_epochs  = 300,\n",
    "    verbose     = True,\n",
    ")"
   ]
  },
  {
   "cell_type": "code",
   "execution_count": null,
   "metadata": {},
   "outputs": [],
   "source": []
  },
  {
   "cell_type": "code",
   "execution_count": null,
   "metadata": {},
   "outputs": [],
   "source": []
  }
 ],
 "metadata": {
  "kernelspec": {
   "display_name": "Python 3",
   "language": "python",
   "name": "python3"
  },
  "language_info": {
   "codemirror_mode": {
    "name": "ipython",
    "version": 3
   },
   "file_extension": ".py",
   "mimetype": "text/x-python",
   "name": "python",
   "nbconvert_exporter": "python",
   "pygments_lexer": "ipython3",
   "version": "3.8.5"
  },
  "nbTranslate": {
   "displayLangs": [
    "*"
   ],
   "hotkey": "alt-t",
   "langInMainMenu": true,
   "sourceLang": "en",
   "targetLang": "fr",
   "useGoogleTranslate": true
  },
  "toc": {
   "base_numbering": 1,
   "nav_menu": {},
   "number_sections": true,
   "sideBar": true,
   "skip_h1_title": false,
   "title_cell": "Table of Contents",
   "title_sidebar": "Contents",
   "toc_cell": false,
   "toc_position": {},
   "toc_section_display": true,
   "toc_window_display": false
  },
  "varInspector": {
   "cols": {
    "lenName": 16,
    "lenType": 16,
    "lenVar": 40
   },
   "kernels_config": {
    "python": {
     "delete_cmd_postfix": "",
     "delete_cmd_prefix": "del ",
     "library": "var_list.py",
     "varRefreshCmd": "print(var_dic_list())"
    },
    "r": {
     "delete_cmd_postfix": ") ",
     "delete_cmd_prefix": "rm(",
     "library": "var_list.r",
     "varRefreshCmd": "cat(var_dic_list()) "
    }
   },
   "types_to_exclude": [
    "module",
    "function",
    "builtin_function_or_method",
    "instance",
    "_Feature"
   ],
   "window_display": false
  }
 },
 "nbformat": 4,
 "nbformat_minor": 2
}
